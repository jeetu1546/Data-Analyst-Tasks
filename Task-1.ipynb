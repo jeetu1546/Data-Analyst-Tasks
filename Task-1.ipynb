{
 "cells": [
  {
   "cell_type": "code",
   "execution_count": 1,
   "id": "fa0fe223-65d2-4fbf-9164-c9d7f6d85b89",
   "metadata": {},
   "outputs": [],
   "source": [
    "# Creating a list\n",
    "my_list = [1, 2, 3, 4, 5]"
   ]
  },
  {
   "cell_type": "code",
   "execution_count": 2,
   "id": "1f743cde-bbfc-4c2a-bb58-a8efc603e19e",
   "metadata": {},
   "outputs": [
    {
     "name": "stdout",
     "output_type": "stream",
     "text": [
      "List after adding an element: [1, 2, 3, 4, 5, 6]\n"
     ]
    }
   ],
   "source": [
    "# Adding an element to the list\n",
    "my_list.append(6)\n",
    "print(f\"List after adding an element: {my_list}\")"
   ]
  },
  {
   "cell_type": "code",
   "execution_count": 3,
   "id": "4567f29a-6edd-4068-a77a-a44f8efadc6f",
   "metadata": {},
   "outputs": [
    {
     "name": "stdout",
     "output_type": "stream",
     "text": [
      "List after removing an element: [1, 2, 4, 5, 6]\n"
     ]
    }
   ],
   "source": [
    "# Removing an element from the list\n",
    "my_list.remove(3)\n",
    "print(f\"List after removing an element: {my_list}\")"
   ]
  },
  {
   "cell_type": "code",
   "execution_count": 4,
   "id": "a1e1353b-c990-40cc-9caa-50770fe5534e",
   "metadata": {},
   "outputs": [
    {
     "name": "stdout",
     "output_type": "stream",
     "text": [
      "List after modifying an element: [1, 2, 10, 5, 6]\n"
     ]
    }
   ],
   "source": [
    "# Modifying an element in the list\n",
    "my_list[2] = 10\n",
    "print(f\"List after modifying an element: {my_list}\")"
   ]
  },
  {
   "cell_type": "code",
   "execution_count": 5,
   "id": "196e5fce-612c-4fdc-92b5-6f73b5abf547",
   "metadata": {},
   "outputs": [],
   "source": [
    "# Creating a dictionary\n",
    "my_dict = {'a': 1, 'b': 2, 'c': 3}"
   ]
  },
  {
   "cell_type": "code",
   "execution_count": 6,
   "id": "4e279209-4451-4506-b89b-95954b681d74",
   "metadata": {},
   "outputs": [
    {
     "name": "stdout",
     "output_type": "stream",
     "text": [
      "Dictionary after adding an element: {'a': 1, 'b': 2, 'c': 3, 'd': 4}\n"
     ]
    }
   ],
   "source": [
    "# Adding an element to the dictionary\n",
    "my_dict['d'] = 4\n",
    "print(f\"Dictionary after adding an element: {my_dict}\")"
   ]
  },
  {
   "cell_type": "code",
   "execution_count": 7,
   "id": "7f38281b-4210-44b5-a6d1-1320da6aeb0f",
   "metadata": {},
   "outputs": [
    {
     "name": "stdout",
     "output_type": "stream",
     "text": [
      "Dictionary after removing an element: {'a': 1, 'c': 3, 'd': 4}\n"
     ]
    }
   ],
   "source": [
    "# Removing an element from the dictionary\n",
    "del my_dict['b']\n",
    "print(f\"Dictionary after removing an element: {my_dict}\")"
   ]
  },
  {
   "cell_type": "code",
   "execution_count": 8,
   "id": "d10578a2-67b2-46d1-9617-b16990bcafe8",
   "metadata": {},
   "outputs": [
    {
     "name": "stdout",
     "output_type": "stream",
     "text": [
      "Dictionary after modifying an element: {'a': 10, 'c': 3, 'd': 4}\n"
     ]
    }
   ],
   "source": [
    "# Modifying an element in the dictionary\n",
    "my_dict['a'] = 10\n",
    "print(f\"Dictionary after modifying an element: {my_dict}\")"
   ]
  },
  {
   "cell_type": "code",
   "execution_count": 9,
   "id": "5542e608-4109-43a5-b3c7-2f307aac47eb",
   "metadata": {},
   "outputs": [],
   "source": [
    "# Creating a set\n",
    "my_set = {1, 2, 3, 4, 5,}"
   ]
  },
  {
   "cell_type": "code",
   "execution_count": 10,
   "id": "18352e81-0b9c-4a14-88c8-8ad84b0af105",
   "metadata": {},
   "outputs": [
    {
     "name": "stdout",
     "output_type": "stream",
     "text": [
      "Set after adding an element: {1, 2, 3, 4, 5, 6}\n"
     ]
    }
   ],
   "source": [
    "# Adding an element to the set\n",
    "my_set.add(6)\n",
    "print(f\"Set after adding an element: {my_set}\")"
   ]
  },
  {
   "cell_type": "code",
   "execution_count": 11,
   "id": "49e52f4b-ae23-43aa-9476-cb98becdc450",
   "metadata": {},
   "outputs": [
    {
     "name": "stdout",
     "output_type": "stream",
     "text": [
      "Set after removing an element: {1, 2, 4, 5, 6}\n"
     ]
    }
   ],
   "source": [
    "# Removing an element from the set\n",
    "my_set.remove(3)\n",
    "print(f\"Set after removing an element: {my_set}\")"
   ]
  },
  {
   "cell_type": "code",
   "execution_count": 12,
   "id": "d243a20e-1db1-41ec-af88-c3ffb642f3cd",
   "metadata": {},
   "outputs": [
    {
     "name": "stdout",
     "output_type": "stream",
     "text": [
      "Set after modifying an element: {1, 2, 5, 6, 10}\n"
     ]
    }
   ],
   "source": [
    "# Modifying elements in a set (sets are unordered, so you can't directly modify an element, but you can remove and add)\n",
    "my_set.remove(4)\n",
    "my_set.add(10)\n",
    "print(f\"Set after modifying an element: {my_set}\")"
   ]
  },
  {
   "cell_type": "code",
   "execution_count": null,
   "id": "88428dfa-d751-4c6b-8575-20444def071b",
   "metadata": {},
   "outputs": [],
   "source": []
  }
 ],
 "metadata": {
  "kernelspec": {
   "display_name": "Python 3 (ipykernel)",
   "language": "python",
   "name": "python3"
  },
  "language_info": {
   "codemirror_mode": {
    "name": "ipython",
    "version": 3
   },
   "file_extension": ".py",
   "mimetype": "text/x-python",
   "name": "python",
   "nbconvert_exporter": "python",
   "pygments_lexer": "ipython3",
   "version": "3.11.0"
  }
 },
 "nbformat": 4,
 "nbformat_minor": 5
}
